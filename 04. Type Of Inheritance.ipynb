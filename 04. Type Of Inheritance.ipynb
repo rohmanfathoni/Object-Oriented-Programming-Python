{
 "cells": [
  {
   "cell_type": "markdown",
   "metadata": {},
   "source": [
    "# Type Of Inheritance"
   ]
  },
  {
   "cell_type": "markdown",
   "metadata": {},
   "source": [
    "<img src=\"img/typeinhe.png\">"
   ]
  },
  {
   "cell_type": "markdown",
   "metadata": {},
   "source": [
    "Jenis-jenis dari Inharitance:\n",
    "\n",
    "1. Default\n",
    "    Inharitance yang menggunakan pass untuk mewariskan method dan attibute yang dimiliki oleh class induk kepada class anak.\n",
    "\n",
    "    dengan cara ini maka class anak akan mewarisi semua method dan attibute yang ada di class induknya.\n",
    "    \n",
    "    \n",
    "2. Overriding\n",
    "    Overriding adalah satu atau lebih method yang namanya sama, signaturenya sama tetapi isinya berbeda dan\n",
    "    \n",
    "    Inharitance jenis ini digunakan ketika ingin menggunakan beberapa attribute/method class induk ke class anak tetapi \n",
    "    \n",
    "    tidak semuanya. Syarat penggunaan overriding adalah nama methode dan attribute harus sama dengan yang dimiliki class \n",
    "    \n",
    "    induk yang mewariskan.\n",
    "    \n",
    "    \n",
    "3. Super\n",
    "    Super adalah inharitance dengan cara menambahkan attribute di class induk yang ingin digunakan\n",
    "    \n",
    "    pada class anak dalam bentuk constructor di class anak.\n",
    "    \n",
    "    Penggunaan super hanya bisa mewariskan attrbute yang ditambahkan ke dalam constructor class anak, \n",
    "    \n",
    "    jadi ada keterbatasan akses dari class anak ke class induk. Berbeda dengan pass yang mewarikan semuanya.\n",
    "    \n",
    "\n",
    "4. Multiple Inharitance\n",
    "    Multiple Inharitance satu class anak yang mewarisi lebih cari satu class induk, baik dari method dan attribut ynag bisa \n",
    "    \n",
    "    mewarisi yang dimiliki semua class induknya. Dan class yang diwarisi akan mempunyai parameter sejumlah class yang\n",
    "    \n",
    "    mewariskan."
   ]
  },
  {
   "cell_type": "markdown",
   "metadata": {},
   "source": [
    "# OVERRIDING"
   ]
  },
  {
   "cell_type": "code",
   "execution_count": 3,
   "metadata": {},
   "outputs": [
    {
     "name": "stdout",
     "output_type": "stream",
     "text": [
      "Hiu Besar Shark\n",
      "Cartilage\n",
      "True\n",
      "The fish is swimming.\n",
      "The shark cannor swim backwards, but can sink backward\n"
     ]
    }
   ],
   "source": [
    "#CONTOH OVERRIDING\n",
    "class Fish:\n",
    "    def __init__(self, first_name, last_name=\"Fish\",\n",
    "                 skeleton=\"Bone\", eyelids=False):\n",
    "        self.first_name = first_name\n",
    "        self.last_name = last_name\n",
    "        self.skeleton = skeleton\n",
    "        self.eyelids = eyelids\n",
    "\n",
    "    def swim(self):\n",
    "        print(\"The fish is swimming.\")\n",
    "\n",
    "    def swim_backwards(self):\n",
    "        print(\"The fish can swim backwards.\")\n",
    "\n",
    "class Shark(Fish):\n",
    "    def __init__(self, first_name, last_name=\"Shark\",\n",
    "                 skeleton=\"Cartilage\", eyelids=True):\n",
    "        self.first_name = first_name\n",
    "        self.last_name = last_name\n",
    "        self.skeleton = skeleton\n",
    "        self.eyelids = eyelids\n",
    "    def swim_backwards(self):\n",
    "        print(\"The shark cannor swim backwards, but can sink backward\")\n",
    "        \n",
    "\n",
    "hiu = Shark(\"Hiu Besar\")\n",
    "print(hiu.first_name + \" \" + hiu.last_name)\n",
    "print(hiu.skeleton)\n",
    "print(hiu.eyelids)\n",
    "hiu.swim()\n",
    "hiu.swim_backwards()"
   ]
  },
  {
   "cell_type": "markdown",
   "metadata": {},
   "source": [
    "Overriding terdapat pada class anak yaitu class Shark pada method swim_backwards.\n",
    "\n",
    "Dimana pada method tersebut merubah nilai dari method class induk/Fish yang juga memiliki nama method yang sama yaitu swim_backwards."
   ]
  },
  {
   "cell_type": "code",
   "execution_count": 4,
   "metadata": {},
   "outputs": [
    {
     "name": "stdout",
     "output_type": "stream",
     "text": [
      "Jumlah Sisi=  4\n",
      "Bentuk=  Persegi\n",
      "4 sisi sama semua\n",
      "Jumlah Sisi=  4\n",
      "Bentuk=  Persegi Panjang\n",
      "Ada 2 pasang yang memiliki jumlah sisi yang sama\n",
      "Jumlah Sisi=  4\n",
      "Bentuk=  Bujur Sangkaar\n",
      "Keempatnya sama panjang\n"
     ]
    }
   ],
   "source": [
    "#CONTOH OVERRIDING\n",
    "class persegi:\n",
    "    def __init__(self,jumlahsisi=4,bentuk=\"Persegi\"):\n",
    "        self.jumlahsisi=jumlahsisi\n",
    "        self.bentuk=bentuk\n",
    "    def display(self):\n",
    "        print(\"Jumlah Sisi= \", self.jumlahsisi)\n",
    "        print(\"Bentuk= \", self.bentuk)\n",
    "    def deskripsi(self):\n",
    "        print(\"4 sisi sama semua\")\n",
    "class persegipanjang(persegi):\n",
    "    def __init__(self,jumlahsisi=4,bentuk=\"Persegi Panjang\"):\n",
    "        self.jumlahsisi=jumlahsisi\n",
    "        self.bentuk=bentuk\n",
    "    def deskripsi(self):\n",
    "        print(\"Ada 2 pasang yang memiliki jumlah sisi yang sama\")\n",
    "class bujursangkar(persegi):\n",
    "    def __init__(self,jumlahsisi=4,bentuk=\"Bujur Sangkaar\"):\n",
    "        self.jumlahsisi=jumlahsisi\n",
    "        self.bentuk=bentuk\n",
    "    def deskripsi(self):\n",
    "        print(\"Keempatnya sama panjang\")\n",
    "\n",
    "A=persegi()\n",
    "A.display()\n",
    "A.deskripsi()\n",
    "B=persegipanjang()\n",
    "B.display()\n",
    "B.deskripsi()\n",
    "C=bujursangkar()\n",
    "C.display()\n",
    "C.deskripsi()"
   ]
  },
  {
   "cell_type": "markdown",
   "metadata": {},
   "source": [
    "Overriding terdapat pada class anak yaitu class bujursangkar dan persegipanjang pada method deskripsi.\n",
    "\n",
    "Dimana pada method tersebut merubah nilai dari method class induk/persegi yang juga memiliki nama method yang sama yaitu deskripsi."
   ]
  },
  {
   "cell_type": "code",
   "execution_count": 7,
   "metadata": {},
   "outputs": [
    {
     "name": "stdout",
     "output_type": "stream",
     "text": [
      "Nama Kelompok :\n",
      "- Muhamad Hendrik Wicaksono (170411100057)\n",
      "- Rohman Fathoni (170411100089)\n",
      "\n",
      "\n",
      "Nama Mahasiswa = M. Hendrik Wicaksono\n",
      "NPM = 170411100057\n",
      "Semester = 3.0\n",
      "\n",
      "Nama Mahasiswa = Rohman Fathoni\n",
      "NPM = 170411100089\n",
      "Semester = 3.0\n",
      "\n",
      "Nama Dosen = Arik Kurniawati, S.Kom., M.T.\n",
      "NIP = 19780309 200312 2 009\n",
      "NIDN = 0009037802\n",
      "\n",
      "Nama Karyawan = Agus\n",
      "NIP = 19750806 200501 1 006\n",
      "\n",
      "Nama Karyawan = Budi\n",
      "NIP = 19750806 200501 1 012\n"
     ]
    }
   ],
   "source": [
    "#JENIS SUPER\n",
    "\n",
    "print(\"Nama Kelompok :\")\n",
    "print(\"- Muhamad Hendrik Wicaksono (170411100057)\")\n",
    "print(\"- Rohman Fathoni (170411100089)\\n\")\n",
    "\n",
    "from datetime import date\n",
    "\n",
    "class Orang:\n",
    "    def __init__(self, nama):\n",
    "        self.nama = nama\n",
    "        \n",
    "class Mahasiswa(Orang):\n",
    "    def __init__(self,nama,npm):\n",
    "        Orang.__init__(self,nama)\n",
    "        self.npm = npm\n",
    "    def printNama(self):\n",
    "        print(\"\\nNama Mahasiswa = \" + self.nama)\n",
    "    def printNPM(self):\n",
    "        print(\"NPM = \" + self.npm)\n",
    "    def semester(self):\n",
    "        tang = self.npm[0:2]\n",
    "        tang = int(\"20\"+str(tang)) #tahun angkatan\n",
    "        today = date.today()\n",
    "        if today.month in (1,2,3,4,5,6):\n",
    "            smstr = 2 #semester genap\n",
    "        else:\n",
    "            smstr = 1 #semester ganjil\n",
    "        tak=int(str(today.year) + str(smstr)) #tahun akademik\n",
    "        if tak %2 != 0:\n",
    "            semester=(((((tak+10)-1)/10)-tang)*2)-1\n",
    "            print(\"Semester = \" + str(semester))\n",
    "        else:\n",
    "            semester=(((((tak+10)-2)/10)-tang)*2)-2\n",
    "            print(\"Semester = \" + str(semester))\n",
    "            \n",
    "class Pegawai(Orang):\n",
    "    def __init__(self,nama,nip):\n",
    "        Orang.__init__(self,nama)\n",
    "        self.nip = nip\n",
    "    \n",
    "    def printNIP(self):\n",
    "        print(\"NIP = \" + self.nip)\n",
    "        \n",
    "class Dosen(Pegawai):\n",
    "    def __init__(self,nama, nip, nidn):\n",
    "        Pegawai.__init__(self,nama, nip)\n",
    "        self.nidn = nidn\n",
    "    def printNama(self):\n",
    "        print(\"\\nNama Dosen = \" + self.nama)\n",
    "    def printNIDN(self):\n",
    "        print(\"NIDN = \" + self.nidn)\n",
    "\n",
    "class Karyawan(Pegawai):\n",
    "    def printNama(self):\n",
    "        print(\"\\nNama Karyawan = \" + self.nama)\n",
    "        \n",
    "#Class Mahasiswa\n",
    "hendrik = Mahasiswa(\"M. Hendrik Wicaksono\", \"170411100057\")\n",
    "hendrik.printNama()\n",
    "hendrik.printNPM()\n",
    "hendrik.semester()\n",
    "\n",
    "rohman = Mahasiswa(\"Rohman Fathoni\", \"170411100089\")\n",
    "rohman.printNama()\n",
    "rohman.printNPM()\n",
    "rohman.semester()\n",
    "\n",
    "#Class Dosen\n",
    "dosen1 = Dosen(\"Arik Kurniawati, S.Kom., M.T.\", \"19780309 200312 2 009\", \"0009037802\")\n",
    "dosen1.printNama()\n",
    "dosen1.printNIP()\n",
    "dosen1.printNIDN()\n",
    "\n",
    "#Class Karyawan\n",
    "karyawan1 = Karyawan(\"Agus\", \"19750806 200501 1 006\")\n",
    "karyawan1.printNama()\n",
    "karyawan1.printNIP()\n",
    "\n",
    "karyawan2 = Karyawan(\"Budi\", \"19750806 200501 1 012\")\n",
    "karyawan2.printNama()\n",
    "karyawan2.printNIP()"
   ]
  },
  {
   "cell_type": "markdown",
   "metadata": {},
   "source": [
    "Class orang sebagai class induk dan terdapat class mahasiswa dan pegawai yang menjadi subclass dari class orang ditandai dengan parameter orang setiap classnya. dan class pegawai juga menjadi induk dari class dosen dan karyawan.\n",
    "\n",
    "Dan masing-masing dari subclass tersebut melakukan inharitance super dengan menambahkan nama dari class orang ke class mahasiswa dan pegawai, dan dari class pegawai ke class dosen dan untuk class karyawan melakukan inheitance override."
   ]
  },
  {
   "cell_type": "markdown",
   "metadata": {},
   "source": [
    "# Super MULTIPLE"
   ]
  },
  {
   "cell_type": "code",
   "execution_count": 9,
   "metadata": {
    "scrolled": true
   },
   "outputs": [
    {
     "name": "stdout",
     "output_type": "stream",
     "text": [
      "Nama: ROhman\n",
      "NPM: 100\n",
      "Nilai\n",
      "Math=100\n",
      "Biology=100\n",
      "\n",
      "\n",
      "Name:  ROhman\n",
      "Npm:  100\n",
      "Nilai Total:  200\n"
     ]
    }
   ],
   "source": [
    "class person:\n",
    "    def __init__(self):\n",
    "        self.name=input(\"Nama: \")\n",
    "    def display(self):\n",
    "        print(\"\\n\\nName: \", self.name)\n",
    "class marks:\n",
    "    def __init__(self):\n",
    "        self.npm=input(\"NPM: \")\n",
    "        print(\"Nilai\")\n",
    "        self.math=int(input(\"Math=\"))\n",
    "        self.bio=int(input(\"Biology=\"))\n",
    "    def display(self):\n",
    "        print(\"Npm: \",self.npm)\n",
    "        print(\"Nilai Total: \",self.math+self.bio)\n",
    "    \n",
    "class student(person,marks):\n",
    "    def __init__(self):\n",
    "        person.__init__(self)\n",
    "        marks.__init__(self)\n",
    "    def result(self):\n",
    "        person.display(self)\n",
    "        marks.display(self)\n",
    "\n",
    "stu1=student()\n",
    "stu1.result()\n"
   ]
  },
  {
   "cell_type": "markdown",
   "metadata": {},
   "source": [
    "Contoh Dari Multiple Inheritance dapat dilihat dari class student yang memiliki dua parameter yaitu person dan mark yang merupakan induk dari class student itu sendiri."
   ]
  }
 ],
 "metadata": {
  "kernelspec": {
   "display_name": "Python 3",
   "language": "python",
   "name": "python3"
  },
  "language_info": {
   "codemirror_mode": {
    "name": "ipython",
    "version": 3
   },
   "file_extension": ".py",
   "mimetype": "text/x-python",
   "name": "python",
   "nbconvert_exporter": "python",
   "pygments_lexer": "ipython3",
   "version": "3.6.5"
  }
 },
 "nbformat": 4,
 "nbformat_minor": 2
}
