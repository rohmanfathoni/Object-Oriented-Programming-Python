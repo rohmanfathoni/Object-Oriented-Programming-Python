{
 "cells": [
  {
   "cell_type": "markdown",
   "metadata": {},
   "source": [
    "# Class and Object"
   ]
  },
  {
   "cell_type": "markdown",
   "metadata": {},
   "source": [
    "Objek adalah kumpulan variabel dan metode yang bertindak atas data tersebut. Dan, kelas adalah blueprint dari objek.\n",
    "Di dalam class kita bisa mengisi attribute dan method, seperti attibute nama mahasiswa dan method predikat mahasiswa.\n",
    "Intinya Class adalah kerangka,dan objek adalah kerangka yang sudah di isi attribute."
   ]
  },
  {
   "cell_type": "markdown",
   "metadata": {},
   "source": [
    "<img src=\"img/classobjdog.jpeg\">"
   ]
  },
  {
   "cell_type": "markdown",
   "metadata": {},
   "source": [
    "Penjelasan Contoh mhs():\n",
    "\n",
    "Method/Fugsi __init__() adalah method Constructor, yaitu method khusus yang digunakan \n",
    "Python untuk menginisialisasi pembuatan objek dari kelas tersebut.\n",
    "\n",
    "\n",
    "#Attribute\n",
    "\n",
    "self.nama = nm\n",
    "\n",
    "self.nrp = nr\n",
    "\n",
    "self.ipk = i\n",
    "\n",
    "adalah contoh beberapa attribute.\n",
    "\n",
    "\n",
    "\n",
    "#Method\n",
    "Beberapa Fugsi di dalam kelas seperti tampilkan(), dan predikatmhs() disebut metode,\n",
    "\n",
    "pembuatannya sama dengan fungsi pada umumnya. \n",
    "\n",
    "Tetapi, harus ada argument pertama bernama self Pada saat pemanggilan fungsi."
   ]
  },
  {
   "cell_type": "code",
   "execution_count": 6,
   "metadata": {},
   "outputs": [
    {
     "name": "stdout",
     "output_type": "stream",
     "text": [
      "\n",
      "Nama: Rohman \n",
      "NRP: 170411100089 \n",
      "IPK: 3.99\n",
      "Cumlaude\n"
     ]
    }
   ],
   "source": [
    "#INI ADALAH CONTOH CLASS\n",
    "class mhs():\n",
    "\t\"\"\"docstring for ClassName\"\"\"\n",
    "\tdef __init__(self, nm, nr, i):\n",
    "\t\tself.nama = nm\n",
    "\t\tself.nrp = nr\n",
    "\t\tself.ipk = i\n",
    "\n",
    "\tdef tampilkan(self):\n",
    "\t\tprint(\"\\nNama:\",self.nama,\"\\nNRP:\",self.nrp,\"\\nIPK:\",self.ipk)\n",
    "    \n",
    "\tdef predikatmhs(self):\n",
    "\t\tif self.ipk >= 3.5:\n",
    "\t\t\tprint(\"Cumlaude\")\n",
    "\t\telif self.ipk >=3 and self.ipk <3.5:\n",
    "\t\t\tprint(\"Sangat Memuaskan\")\n",
    "\t\telif self.ipk >=2.5 and self.ipk <3:\n",
    "\t\t\tprint(\"Memuaskan\")\n",
    "\t\telif self.ipk < 2.5:\n",
    "\t\t\tprint(\"Cukup\")\n",
    "            \n",
    "\n",
    "#INI ADALAH CONTOH OBJECT\n",
    "mhs1=mhs(\"Rohman\",\"170411100089\",3.99)\n",
    "mhs1.tampilkan()\n",
    "mhs1.predikatmhs()"
   ]
  },
  {
   "cell_type": "code",
   "execution_count": 1,
   "metadata": {},
   "outputs": [
    {
     "name": "stdout",
     "output_type": "stream",
     "text": [
      "Jumlah Sisi 4\n",
      "Luas =  16\n",
      "Vol =  64\n",
      "Luas Permukaan =  96\n"
     ]
    }
   ],
   "source": [
    "class Kubus:\n",
    "\t\"\"\"docstring for Kubus\"\"\"\n",
    "\tdef __init__(self, s):\n",
    "\t\tself.sisi=s\n",
    "\n",
    "\tdef tampilankansisi(self):\n",
    "\t\tprint(\"Jumlah Sisi = \", self.sisi)\n",
    "\t\n",
    "\tdef luas(self):\n",
    "\t\tprint(\"Luas = \",self.sisi**2)\n",
    "\tdef vol(self):\n",
    "\t\tprint(\"Vol = \",self.sisi**3)\n",
    "\t\tpass\n",
    "\tdef luaspermukaan(self):\n",
    "\t\tprint(\"Luas Permukaan = \",self.sisi**2*6)\n",
    "\n",
    "kubus1=Kubus(4)\n",
    "kubus1.tampilankansisi()\n",
    "kubus1.luas()\n",
    "kubus1.vol()\n",
    "kubus1.luaspermukaan()"
   ]
  },
  {
   "cell_type": "code",
   "execution_count": 10,
   "metadata": {},
   "outputs": [
    {
     "name": "stdout",
     "output_type": "stream",
     "text": [
      "Nomor: 001 \n",
      "Nama: Rohman \n",
      "Nomor Rekening: 351422213124456 \n",
      "\n",
      "Jumlah penarikan Rp. 100000\n",
      "Sisa Rp. 99900000 \n",
      "\n",
      "Jumlah setoran Rp. 2500000\n",
      "Sisa RP. 102400000\n",
      "\n",
      "Saldo sekarang Rp. 102400000\n"
     ]
    }
   ],
   "source": [
    "class Nasabah():\n",
    "    def __init__(self,no,nm,rek):\n",
    "        self.nomor=no\n",
    "        self.nama=nm\n",
    "        self.rekening=rek\n",
    "    def tampilkan(self):\n",
    "        print ('Nomor:',self.nomor,'\\nNama:',self.nama,'\\nNomor Rekening:',self.rekening,'\\n')\n",
    "class rekening():\n",
    "    def __init__(self,rek,sal):\n",
    "        self.rekening=rek\n",
    "        self.saldo=sal\n",
    "    def ambil(self,ambil):\n",
    "        #ambil_uang=int(input('jumlah penarikan Rp. '))\n",
    "        print ('Jumlah penarikan Rp.',ambil)\n",
    "        self.saldo-=ambil\n",
    "        print ('Sisa Rp.',self.saldo,'\\n')\n",
    "    def setor(self,tambah):\n",
    "        print ('Jumlah setoran Rp.',tambah)\n",
    "        self.saldo+=tambah\n",
    "        print ('Sisa RP.',self.saldo)\n",
    "    def cek_saldo(self):\n",
    "        print ('\\nSaldo sekarang Rp.',self.saldo)\n",
    "\n",
    "#nasabah\n",
    "a=Nasabah('001','Rohman','351422213124456')\n",
    "a.tampilkan()\n",
    "\n",
    "#rekening\n",
    "b=rekening('351422213124456',100000000)\n",
    "b.ambil(100000)\n",
    "b.setor(2500000)\n",
    "b.cek_saldo()\n",
    " \n",
    "\n"
   ]
  }
 ],
 "metadata": {
  "kernelspec": {
   "display_name": "Python 3",
   "language": "python",
   "name": "python3"
  },
  "language_info": {
   "codemirror_mode": {
    "name": "ipython",
    "version": 3
   },
   "file_extension": ".py",
   "mimetype": "text/x-python",
   "name": "python",
   "nbconvert_exporter": "python",
   "pygments_lexer": "ipython3",
   "version": "3.6.5"
  }
 },
 "nbformat": 4,
 "nbformat_minor": 2
}
