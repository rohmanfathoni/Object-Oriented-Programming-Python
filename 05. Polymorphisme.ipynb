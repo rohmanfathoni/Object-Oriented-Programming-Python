{
 "cells": [
  {
   "cell_type": "markdown",
   "metadata": {},
   "source": [
    "# Polymorphism"
   ]
  },
  {
   "cell_type": "markdown",
   "metadata": {},
   "source": [
    "<img src=\"img/poly.png\">"
   ]
  },
  {
   "cell_type": "markdown",
   "metadata": {},
   "source": [
    "Polymorphism\n",
    "\n",
    "Didalam pemrograman objek, polimorfisme adalah konsep dimana terdapat beberapa class yang mempunyai method yang sama. Untuk penerapan dari method-method tersebut adalah diserahkan kepada tiap kelas yang yang memiliki method, akan tetapi untuk cara pemanggilan harus sama.\n",
    "Polimorphism bisa diakses melalui 2 cara yaitu dengan fugsi dan method.\n",
    "\n",
    "Suatu object dapat memiliki berbagai bentuk, sebagai object dari class sendiri atau object dari superclassnya.\n",
    "Polymorphism memilikai dua class berbeda tetapi memiliki method yang sama."
   ]
  },
  {
   "cell_type": "code",
   "execution_count": 6,
   "metadata": {},
   "outputs": [
    {
     "name": "stdout",
     "output_type": "stream",
     "text": [
      "Shark is swiming\n",
      "Clownfish is swiming\n",
      "\n",
      "Shark is swiming\n",
      "Clownfish is swiming\n",
      "\n",
      "Shark is swiming\n",
      "The shark cannt swim backward, but can sink backward\n",
      "The shark sleketon is made of cartilage\n",
      "Clownfish is swiming\n",
      "The clownfish cannt swim backward, but can sink backward\n",
      "The clownfish sleketon is made of cartilage\n"
     ]
    }
   ],
   "source": [
    "class shark():\n",
    "    def swim(self):\n",
    "        print(\"Shark is swiming\")\n",
    "    def swim_backwards(self):\n",
    "        print(\"The shark cannt swim backward, but can sink backward\")\n",
    "    def skeleton(self):\n",
    "        print(\"The shark sleketon is made of cartilage\")\n",
    "class clownfish():\n",
    "    def swim(self):\n",
    "        print(\"Clownfish is swiming\")\n",
    "    def swim_backwards(self):\n",
    "        print(\"The clownfish cannt swim backward, but can sink backward\")\n",
    "    def skeleton(self):\n",
    "        print(\"The clownfish sleketon is made of cartilage\")\n",
    "\n",
    "#AKSES BIASA\n",
    "a=shark()\n",
    "a.swim()\n",
    "\n",
    "b=clownfish()\n",
    "b.swim()\n",
    "\n",
    "print('')\n",
    "\n",
    "#AKSES DENGAN FUGSI\n",
    "def in_the_pacific(fish):\n",
    "    fish.swim()\n",
    "    \n",
    "c=shark()\n",
    "d=clownfish()\n",
    "in_the_pacific(c)\n",
    "in_the_pacific(d)\n",
    "\n",
    "print('')\n",
    "\n",
    "#AKSES DENGAN METHOD\n",
    "e=shark()\n",
    "f=clownfish()\n",
    "for fish in (e,f):\n",
    "    fish.swim()\n",
    "    fish.swim_backwards()\n",
    "    fish.skeleton()"
   ]
  },
  {
   "cell_type": "markdown",
   "metadata": {},
   "source": [
    "Terdapat dua class dengan nama Shark dan Clownfish masing-masing dari class tersebut mempunyai nama method yang sama yaitu methode swim, swim_backwards, dan skeleton tetapi masing-masing methode mempunyai nilai yang berbeda di setiap classnya ya inilah yang dinamakan Polymorphism.\n",
    "\n",
    "dan bisa di akses memalui 3 cara:\n",
    "1. Buat objek pada setiap class kemudian panggil method yang ada di setiap class tersebut.\n",
    "\n",
    "2. Fungsi Polymorfisme buat sebuah fugsi Untuk memanggil method dengan cara ini kita membuat fungsi yang bernama in_the_pacific yang mempunyai parameter bernama fish, lalu parameter fish tersebut kita gunakan untuk memanggil method class dengan cara parameter.namamethod Kemudian kita membuat objek untuk mendeklarasikan masing-masing class, disini kita menggunakan nama C untuk class Shark dan D untuk class Clownfish. Dan untuk mengeksekusi fungsi polimorfisme tersebut kita cukup menuliskan nama fungsi dengan nama paramater objek yang telah kita buat.\n",
    "\n",
    "3. Method polomorfisme buat sebuah object selanjutnya buat perulangan menggunakan parameter nama object. lalu dalam perulangan tersebut masukkan method yang ingin di jalankan."
   ]
  },
  {
   "cell_type": "markdown",
   "metadata": {},
   "source": [
    "# Abstract class"
   ]
  },
  {
   "cell_type": "markdown",
   "metadata": {},
   "source": [
    "Polimorfisme class Abstrak. \n",
    "\n",
    "Dimana class pegawai tidak memiliki method untuk menjalakan nilai dari class pegawi tersubut. yang mana hanya mendefinisika n struktur yang harus similiki class lain sebagai bentuk polymorphism seperti class manager dan programmer yang memiliki method yang sama dengan strukture yang ada pada  class pegawai."
   ]
  },
  {
   "cell_type": "code",
   "execution_count": 28,
   "metadata": {
    "scrolled": true
   },
   "outputs": [
    {
     "name": "stdout",
     "output_type": "stream",
     "text": [
      "30000\n"
     ]
    }
   ],
   "source": [
    "class pegawai:\n",
    "    def __init__ (self,name,ngaji):\n",
    "        self.name=name\n",
    "        self.ngaji=ngaji\n",
    "        \n",
    "    def gaji(self):\n",
    "        raise notimplementederror(\"Subclass must implemented abstract method\")\n",
    "\n",
    "class manager(pegawai):\n",
    "    def __init__(self,nama,ngaji,tunjangan):\n",
    "        pegawai.__init__(self,nama,ngaji)\n",
    "        #self.gaji=gaji\n",
    "        self.tunjangan=tunjangan\n",
    "    def gaji(self):\n",
    "        hasil=self.ngaji+self.tunjangan\n",
    "        print(hasil)\n",
    "        \n",
    "class progammer(pegawai):\n",
    "    def __init__(self,nama,ngaji,bonus):\n",
    "        pegawai.__init__(self,nama,ngaji)\n",
    "        #self.gaji=gaji\n",
    "        self.bonus=bonus\n",
    "    def gaji(self):\n",
    "        hasil=self.ngaji+self.bonus\n",
    "        print(hasil)\n",
    "        \n",
    "pro=progammer(\"mamang\",10000,20000)\n",
    "pro.gaji()\n",
    "\n",
    "    "
   ]
  }
 ],
 "metadata": {
  "kernelspec": {
   "display_name": "Python 3",
   "language": "python",
   "name": "python3"
  },
  "language_info": {
   "codemirror_mode": {
    "name": "ipython",
    "version": 3
   },
   "file_extension": ".py",
   "mimetype": "text/x-python",
   "name": "python",
   "nbconvert_exporter": "python",
   "pygments_lexer": "ipython3",
   "version": "3.6.5"
  }
 },
 "nbformat": 4,
 "nbformat_minor": 2
}
