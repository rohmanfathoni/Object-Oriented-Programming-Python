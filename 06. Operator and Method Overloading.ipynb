{
 "cells": [
  {
   "cell_type": "markdown",
   "metadata": {},
   "source": [
    "# Operator and Method Overloading"
   ]
  },
  {
   "cell_type": "markdown",
   "metadata": {},
   "source": [
    "<img src=\"img/overload.jpg\">"
   ]
  },
  {
   "cell_type": "markdown",
   "metadata": {},
   "source": [
    "Operator Overloading adalah pembuatan beberapa fungsi atau kegunaan untuk suatu operator. Misalnya operator plus(+) dibuat tidak hanya untuk penjumlahan saja tetapi dapat digunakan juga dalam fungsi yang lain.\n",
    "\n",
    "Method Overloading adalah sebuah method yang memperbolehkan sebuah class memiliki 2 atau lebih method dengan nama yang sama, yang membedakan adalah parameternya.\n",
    "Hal ini akan sangat mempermudah kita sebab ketika kita membuat beberapa method dengan fungsi yang sama, kita tidak perlu membuat method-method tersebut dengan nama-nama yang berbeda. Cukup argumennya saja yang kita bedakan.\n",
    "\n",
    "Kelemahan overloading di python adalah method terakhir saja yang hanya bisa terbaca oleh python."
   ]
  },
  {
   "cell_type": "code",
   "execution_count": 11,
   "metadata": {},
   "outputs": [
    {
     "name": "stdout",
     "output_type": "stream",
     "text": [
      "9\n"
     ]
    }
   ],
   "source": [
    "#Method Overloading\n",
    "def add(a,b):\n",
    "    return a+b\n",
    "def add(a,b,c):\n",
    "    return a+b+c\n",
    "print(add(2,3,4))"
   ]
  },
  {
   "cell_type": "markdown",
   "metadata": {},
   "source": [
    "Pada Programm di atas python hanya menjalankan method yang terakhir saja. karena bila method ke 1 dan ke 2 dijalankan bersamaan akan terjadi eror."
   ]
  },
  {
   "cell_type": "code",
   "execution_count": 14,
   "metadata": {},
   "outputs": [
    {
     "name": "stdout",
     "output_type": "stream",
     "text": [
      "1 / 3\n",
      "1/3\n",
      "\n",
      "10/12\n"
     ]
    }
   ],
   "source": [
    "#Operator Overloading\n",
    "class Fraction:\n",
    "    def __init__(self,top,bottom):\n",
    "        self.num=top\n",
    "        self.den=bottom\n",
    "    def show(self):\n",
    "        print (self.num,'/',self.den)\n",
    "    def  __str__(self):\n",
    "        return str(self.num)+'/'+str(self.den)\n",
    "    def __add__(self,otherfraction):\n",
    "        newnum=self.num * otherfraction.den + self.den* otherfraction.num\n",
    "        newden=self.den * otherfraction.den\n",
    "        return Fraction(newnum,newden)\n",
    "    \n",
    "f1=Fraction(1,3)\n",
    "f2=Fraction(2,4)\n",
    "f1.show()\n",
    "print (f1)\n",
    "print ()\n",
    "print (f1+f2)"
   ]
  },
  {
   "cell_type": "markdown",
   "metadata": {},
   "source": [
    "Pemanggilan attribute self.den dalam class di atas menggunakan magic cass yang di sediakan oleh python yaitu str untuk konversi int ke dalam bentuk string. dan terdapat add yang berfungsi untuk operator penjumlahan, yang dalam hal ini digunakan untuk menjumlahkan objek F1 dan F2."
   ]
  },
  {
   "cell_type": "code",
   "execution_count": 6,
   "metadata": {},
   "outputs": [
    {
     "name": "stdout",
     "output_type": "stream",
     "text": [
      "Point object is at:(3,1)\n"
     ]
    }
   ],
   "source": [
    "#koordinat\n",
    "class point:\n",
    "    def __init__(self,x=0,y=0):\n",
    "        self.x=x\n",
    "        self.y=y\n",
    "    def __str__(self):\n",
    "        #return \"Point object is at: (\"+str(self.x)+ \",\"+str(self.y)\")\"\n",
    "        return \"Point object is at:({0},{1})\".format(self.x,self.y)\n",
    "    def __add__(self,other):\n",
    "        x=self.x-other.x\n",
    "        y=self.y-other.y\n",
    "        return point(x,y)\n",
    "p1=point(2,3)\n",
    "p2=point(-1,2)\n",
    "print (p1+p2)"
   ]
  },
  {
   "cell_type": "code",
   "execution_count": 7,
   "metadata": {},
   "outputs": [
    {
     "name": "stdout",
     "output_type": "stream",
     "text": [
      "Hello \n",
      "Hello Guido\n"
     ]
    }
   ],
   "source": [
    "class human:\n",
    "    def sayHello(self, nama=None):\n",
    "\n",
    "        if nama is not None:\n",
    "            print ('Hello ' + nama)\n",
    "        else:\n",
    "            print ('Hello ')\n",
    "            \n",
    "#create instance            \n",
    "obj = human()\n",
    "#call the methode\n",
    "obj.sayHello()\n",
    "#call the methode with a parameter\n",
    "obj.sayHello('Guido')"
   ]
  }
 ],
 "metadata": {
  "kernelspec": {
   "display_name": "Python 3",
   "language": "python",
   "name": "python3"
  },
  "language_info": {
   "codemirror_mode": {
    "name": "ipython",
    "version": 3
   },
   "file_extension": ".py",
   "mimetype": "text/x-python",
   "name": "python",
   "nbconvert_exporter": "python",
   "pygments_lexer": "ipython3",
   "version": "3.6.5"
  }
 },
 "nbformat": 4,
 "nbformat_minor": 2
}
