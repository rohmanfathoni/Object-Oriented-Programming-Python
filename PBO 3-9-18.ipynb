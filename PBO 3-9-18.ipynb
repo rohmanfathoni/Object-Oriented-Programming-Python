{
 "cells": [
  {
   "cell_type": "markdown",
   "metadata": {},
   "source": [
    "# Class and Object"
   ]
  },
  {
   "cell_type": "raw",
   "metadata": {},
   "source": [
    "Class = Kerangka\n",
    "Object = Kerangka yang sudah di isi attribute"
   ]
  },
  {
   "cell_type": "code",
   "execution_count": 1,
   "metadata": {},
   "outputs": [
    {
     "name": "stdout",
     "output_type": "stream",
     "text": [
      "4\n",
      "luas =  16\n",
      "vol =  64\n",
      "luaspermukaan =  96\n"
     ]
    }
   ],
   "source": [
    "class Kubus:\n",
    "\t\"\"\"docstring for Kubus\"\"\"\n",
    "\tdef __init__(self, s):\n",
    "\t\tself.sisi=s\n",
    "\n",
    "\tdef tampilankansisi(self):\n",
    "\t\tprint(self.sisi)\n",
    "\t\n",
    "\tdef luas(self):\n",
    "\t\tprint(\"luas = \",self.sisi**2)\n",
    "\tdef vol(self):\n",
    "\t\tprint(\"vol = \",self.sisi**3)\n",
    "\t\tpass\n",
    "\tdef luaspermukaan(self):\n",
    "\t\tprint(\"luaspermukaan = \",self.sisi**2*6)\n",
    "\t\t\n",
    "kubus1=Kubus(4)\n",
    "kubus1.tampilankansisi()\n",
    "kubus1.luas()\n",
    "kubus1.vol()\n",
    "kubus1.luaspermukaan()"
   ]
  },
  {
   "cell_type": "code",
   "execution_count": 9,
   "metadata": {},
   "outputs": [
    {
     "name": "stdout",
     "output_type": "stream",
     "text": [
      "\n",
      "nama: Rohman \n",
      "nrp: 170411100089 \n",
      "ipk: 2\n",
      "Cukup\n"
     ]
    }
   ],
   "source": [
    "class mhs():\n",
    "\t\"\"\"docstring for ClassName\"\"\"\n",
    "\tdef __init__(self, nm, nr, i):\n",
    "\t\tself.nama = nm\n",
    "\t\tself.nrp = nr\n",
    "\t\tself.ipk = i\n",
    "\n",
    "\tdef tampilkan(self):\n",
    "\t\tprint(\"\\nnama:\",self.nama,\"\\nnrp:\",self.nrp,\"\\nipk:\",self.ipk)\n",
    "    \n",
    "\tdef predikatmhs(self):\n",
    "\t\tif self.ipk >= 3.5:\n",
    "\t\t\tprint(\"Cumlaude\")\n",
    "\t\telif self.ipk >=3 and self.ipk <3.5:\n",
    "\t\t\tprint(\"Sangat Memuaskan\")\n",
    "\t\telif self.ipk >=2.5 and self.ipk <3:\n",
    "\t\t\tprint(\"Memuaskan\")\n",
    "\t\telif self.ipk < 2.5:\n",
    "\t\t\tprint(\"Cukup\")\n",
    "mhs1=mhs(\"Rohman\",\"170411100089\",2)\n",
    "mhs1.tampilkan()\n",
    "mhs1.predikatmhs()"
   ]
  },
  {
   "cell_type": "code",
   "execution_count": 1,
   "metadata": {},
   "outputs": [
    {
     "name": "stdout",
     "output_type": "stream",
     "text": [
      "nomor: 1 \n",
      "nama: hilal \n",
      "nomor rekening: 12345678 \n",
      "\n",
      "jumlah penarikan Rp. 1000\n",
      "sisa Rp. 999000 \n",
      "\n",
      "jumlah setoran Rp. 2500\n",
      "sisa RP. 1001500\n",
      "\n",
      "saldo sekarang Rp. 1001500\n"
     ]
    }
   ],
   "source": [
    "class Nasabah():\n",
    "    def __init__(self,no,nm,rek):\n",
    "        self.nomor=no\n",
    "        self.nama=nm\n",
    "        self.rekening=rek\n",
    "    def tampilkan(self):\n",
    "        print ('nomor:',self.nomor,'\\nnama:',self.nama,'\\nnomor rekening:',self.rekening,'\\n')\n",
    "class rekening():\n",
    "    def __init__(self,rek,sal):\n",
    "        self.rekening=rek\n",
    "        self.saldo=sal\n",
    "    def ambil(self,ambil):\n",
    "        #ambil_uang=int(input('jumlah penarikan Rp. '))\n",
    "        print ('jumlah penarikan Rp.',ambil)\n",
    "        self.saldo-=ambil\n",
    "        print ('sisa Rp.',self.saldo,'\\n')\n",
    "    def setor(self,tambah):\n",
    "        print ('jumlah setoran Rp.',tambah)\n",
    "        self.saldo+=tambah\n",
    "        print ('sisa RP.',self.saldo)\n",
    "    def cek_saldo(self):\n",
    "        print ('\\nsaldo sekarang Rp.',self.saldo)\n",
    "\n",
    "#nasabah\n",
    "hilal=nasabah('1','hilal','12345678')\n",
    "hilal.tampilkan()\n",
    "\n",
    "#rekening\n",
    "man_rek=rekening('12345678',1000000)\n",
    "man_rek.ambil(1000)\n",
    "man_rek.setor(2500)\n",
    "man_rek.cek_saldo()\n",
    " "
   ]
  },
  {
   "cell_type": "code",
   "execution_count": null,
   "metadata": {},
   "outputs": [],
   "source": []
  },
  {
   "cell_type": "code",
   "execution_count": null,
   "metadata": {},
   "outputs": [],
   "source": []
  },
  {
   "cell_type": "code",
   "execution_count": null,
   "metadata": {},
   "outputs": [],
   "source": []
  }
 ],
 "metadata": {
  "kernelspec": {
   "display_name": "Python 3",
   "language": "python",
   "name": "python3"
  },
  "language_info": {
   "codemirror_mode": {
    "name": "ipython",
    "version": 3
   },
   "file_extension": ".py",
   "mimetype": "text/x-python",
   "name": "python",
   "nbconvert_exporter": "python",
   "pygments_lexer": "ipython3",
   "version": "3.6.5"
  }
 },
 "nbformat": 4,
 "nbformat_minor": 2
}
