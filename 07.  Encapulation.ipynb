{
 "cells": [
  {
   "cell_type": "markdown",
   "metadata": {},
   "source": [
    "# Encapulation"
   ]
  },
  {
   "cell_type": "markdown",
   "metadata": {},
   "source": [
    "<img src=\"img/enca.png\">"
   ]
  },
  {
   "cell_type": "markdown",
   "metadata": {},
   "source": [
    "Informasi tersembunyi ? Properti & Method Privat diakses di luar kelas.\n",
    "\n",
    "Encapsulation adalah proses penyembunyi property dan method privat agar tidak bisa diakses di luar kelas.\n",
    "\n",
    "Cara membuat property atau method privat:\n",
    "\n",
    "1. Memberi 1 underscore sebelum nama variabel atau method. \n",
    "   Variabel atau method jenis yang ini tidak dapat di akses secara langsung\n",
    "   \n",
    "2. Memberi 2 undercore sebelum nama variabel atau method.\n",
    "   Variabel atau method jenis ini lebih sulit di akses daripada yang underscore satu, \n",
    "   tapi masih memungkinkan diakses.\n",
    "   \n",
    " Cara mengakses method atau property private di dalam encapsulation adalah:\n",
    " 1. Dengan Membuat method atau property baru dengan isi/nilai di dalamnya yaitu method atau property yang terencapsulation.\n",
    " \n",
    " 2. Bengan cara membuat objek yang berisi nama class, kemudian panggil method private dengan cara:\n",
    "    \n",
    "    namaObjek._namaClass.__namaMethodPrivate\n",
    " "
   ]
  },
  {
   "cell_type": "markdown",
   "metadata": {},
   "source": [
    "<img src=\"img/encapubpriv.png\">"
   ]
  },
  {
   "cell_type": "code",
   "execution_count": 16,
   "metadata": {},
   "outputs": [
    {
     "name": "stdout",
     "output_type": "stream",
     "text": [
      "123\n",
      "456\n",
      "789\n"
     ]
    }
   ],
   "source": [
    "class robot(object):\n",
    "    def __init__(self):\n",
    "        self.a=123 #public\n",
    "        self._b=456 #encapsulation 1 underscore.\n",
    "        self.__c=789 #encapsulation 2 underscore.\n",
    "obj=robot()\n",
    "print (obj.a)\n",
    "print (obj._b)\n",
    "#print (obj.__c)\n",
    "print (obj._robot__c)"
   ]
  },
  {
   "cell_type": "markdown",
   "metadata": {},
   "source": [
    "# Private methods"
   ]
  },
  {
   "cell_type": "markdown",
   "metadata": {},
   "source": [
    "<img src=\"img/encapsulation.png\">"
   ]
  },
  {
   "cell_type": "code",
   "execution_count": 8,
   "metadata": {},
   "outputs": [
    {
     "name": "stdout",
     "output_type": "stream",
     "text": [
      "updating software\n",
      "driving\n"
     ]
    }
   ],
   "source": [
    "class Car:\n",
    " \n",
    "    def __init__(self):\n",
    "        self.__updateSoftware()\n",
    " \n",
    "    def drive(self):\n",
    "        print ('driving')\n",
    " \n",
    "    def __updateSoftware(self):\n",
    "        print ('updating software')\n",
    "        \n",
    "redcar= Car()\n",
    "redcar.drive()"
   ]
  },
  {
   "cell_type": "markdown",
   "metadata": {},
   "source": [
    "# Private variables"
   ]
  },
  {
   "cell_type": "markdown",
   "metadata": {},
   "source": [
    "<img src=\"img/encapsulation-example.png\">"
   ]
  },
  {
   "cell_type": "code",
   "execution_count": 11,
   "metadata": {},
   "outputs": [
    {
     "name": "stdout",
     "output_type": "stream",
     "text": [
      "driving. maxspeed 100\n",
      "driving. maxspeed 100\n"
     ]
    }
   ],
   "source": [
    "class Car:\n",
    "\n",
    "    __maxspeed = 0\n",
    "    __name = \"\"\n",
    " \n",
    "    def __init__(self):\n",
    "        self.__maxspeed = 100\n",
    "        self.__name = (\"Supercar\")\n",
    " \n",
    "    def drive(self):\n",
    "        print ('driving. maxspeed ' + str(self.__maxspeed))\n",
    "        \n",
    "redcar = Car()\n",
    "redcar.drive()\n",
    "redcar.__maxspeed = 10  # will not change variable because its private\n",
    "redcar.drive()"
   ]
  },
  {
   "cell_type": "code",
   "execution_count": 14,
   "metadata": {},
   "outputs": [
    {
     "name": "stdout",
     "output_type": "stream",
     "text": [
      "driving. maxspeed 200\n",
      "driving. maxspeed 320\n"
     ]
    }
   ],
   "source": [
    "class Car:\n",
    " \n",
    "    __maxspeed = 0\n",
    "    __name = \"\"\n",
    " \n",
    "    def __init__(self):\n",
    "        self.__maxspeed = 200\n",
    "        self.__name = (\"Supercar\")\n",
    " \n",
    "    def drive(self):\n",
    "        print (('driving. maxspeed ') + str(self.__maxspeed))\n",
    " \n",
    "    def setMaxSpeed(self,speed):\n",
    "        self.__maxspeed = speed\n",
    "        \n",
    "redcar = Car()\n",
    "redcar.drive()\n",
    "redcar.setMaxSpeed(320)\n",
    "redcar.drive()"
   ]
  },
  {
   "cell_type": "markdown",
   "metadata": {},
   "source": [
    "Berikut ini adalah contoh merybah code biasa dijadikan Encapulation."
   ]
  },
  {
   "cell_type": "code",
   "execution_count": 17,
   "metadata": {},
   "outputs": [
    {
     "name": "stdout",
     "output_type": "stream",
     "text": [
      "Pembangunan Lantai 3\n",
      "Pembangunan Lantai 3\n"
     ]
    }
   ],
   "source": [
    "class pegawai():\n",
    "    def __init__(self):\n",
    "        self.name=(\" M. Joko Susilo \")\n",
    "        self.id=(\"007\")\n",
    "        self.__perilaku=\"Malas\"\n",
    "    def display(self):\n",
    "        print(\"Name: \", self.name)\n",
    "        print(\"ID Pegawai: \",self.id)\n",
    "        print(\"Perilaku :\", self.__perilaku)\n",
    "    def setPrilaku(self,laku):\n",
    "        self.__perilaku=laku\n",
    "class toko():\n",
    "    def __init__(self):\n",
    "        self.namatoko=(\"Sumber Lancar\")\n",
    "        self.lokasi=(\"Jombang\")\n",
    "        self.__renovasi()\n",
    "        \n",
    "    def display(self):\n",
    "        print(\"Nama Toko: \",self.namatoko)\n",
    "        print(\"Lokasi: \",self.lokasi)\n",
    "\n",
    "    def __renovasi(self):\n",
    "        print(\"Pembangunan Lantai 3\")\n",
    "\n",
    "a=pegawai()\n",
    "a.display()\n",
    "a.setPrilaku('Rajin')\n",
    "a.display()\n",
    "\n",
    "c=toko()\n",
    "c._toko__renovasi()"
   ]
  }
 ],
 "metadata": {
  "kernelspec": {
   "display_name": "Python 3",
   "language": "python",
   "name": "python3"
  },
  "language_info": {
   "codemirror_mode": {
    "name": "ipython",
    "version": 3
   },
   "file_extension": ".py",
   "mimetype": "text/x-python",
   "name": "python",
   "nbconvert_exporter": "python",
   "pygments_lexer": "ipython3",
   "version": "3.6.5"
  }
 },
 "nbformat": 4,
 "nbformat_minor": 2
}
