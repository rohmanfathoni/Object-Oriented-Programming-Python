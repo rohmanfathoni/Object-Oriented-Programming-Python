{
 "cells": [
  {
   "cell_type": "markdown",
   "metadata": {},
   "source": [
    "# Inheritance Class"
   ]
  },
  {
   "cell_type": "markdown",
   "metadata": {},
   "source": [
    "Inheritance (warisan atau turunan) adalah sebuah konsep yang penting di Python.\n",
    "Inheritance adalah sebuah proses dimana sebuah class mengambil semua properti dan semua metode dari kelas lain.\n",
    "Class yang mewariskan disebut class induk/Basclass dan\n",
    "Class yang mewarisi dinamakan class anak/Subclass."
   ]
  },
  {
   "cell_type": "markdown",
   "metadata": {},
   "source": [
    "<img src=\"img/macaminheritance.jpg\">"
   ]
  },
  {
   "cell_type": "markdown",
   "metadata": {},
   "source": [
    "Macam-macam Inheiritance:\n",
    "1. Simple\n",
    "    Class A adalah Class BascClass/Induk,dan\n",
    "    \n",
    "    Class B adalan Subclass/Anak. \n",
    "    \n",
    "    Maka Class B Sebagai anak class bisa mengakses method dan variabel yang ada di class A.\n",
    "\n",
    "\n",
    "2. Multiple\n",
    "    Class A adalah Class BascClass/Induk.\n",
    "    \n",
    "    Class B adalah Subclass/Anak A Hanya Bisa mengaksesk class A.\n",
    "    \n",
    "    Class C adalah Subclass/Anak A dan B Bisa mengakses Class A,dan B.\n",
    "    \n",
    "    B dan C derajatnya berbeda.\n",
    "\n",
    "\n",
    "3. Hierarchica\n",
    "    Class A adalah Class BascClass/Induk.\n",
    "    \n",
    "    Class B adalah Subclass/Anak A Hanya Bisa mengakses class A.\n",
    "    \n",
    "    Class C adalah Subclass/Anak A Hanya Bisa mengakses class A.\n",
    "    \n",
    "    B dan C memiliki derajat yang sama.\n",
    "\n",
    "\n",
    "\n",
    "\n",
    "Contoh Lain:\n",
    "\n",
    "BascClass = Kendaraaan\n",
    "\n",
    "SubClass = Mobil, Motor, Sepeda, dll."
   ]
  },
  {
   "cell_type": "code",
   "execution_count": 4,
   "metadata": {},
   "outputs": [
    {
     "name": "stdout",
     "output_type": "stream",
     "text": [
      "NamaUSER = Maxx\n",
      "NamaUSER = Passyha\n",
      "NamaPRO = Rolanald\n",
      "Programing Python\n"
     ]
    }
   ],
   "source": [
    "class User:\n",
    "    def __init__(self, name):\n",
    "        self.name=name\n",
    "    def printName(self):\n",
    "        print(\"NamaUSER = \" + self.name)\n",
    "\n",
    "class Progammer(User):\n",
    "    def __init__(self,lastname):\n",
    "        self.lastname=lastname\n",
    "    def printLastName(self):\n",
    "        print(\"NamaPRO = \"+self.lastname)\n",
    "    def doPython(self):\n",
    "        print(\"Programing Python\")\n",
    "\n",
    "class ProgammerPass(User):\n",
    "    pass\n",
    "\n",
    "a=User(\"Maxx\")\n",
    "a.printName()\n",
    "\n",
    "c=ProgammerPass(\"Passyha\")\n",
    "c.printName()\n",
    "\n",
    "b=Progammer(\"Rolanald\")\n",
    "b.printLastName()\n",
    "b.doPython()"
   ]
  },
  {
   "cell_type": "markdown",
   "metadata": {},
   "source": [
    "Penjelasan contoh program inharitance USER:\n",
    "\n",
    "1. Buat class User yang mempunyai method untuk mencetak nama dari atribut nama yang dimasukka melalui objek.\n",
    "\n",
    "2. Buat class Programmer yang untuk mencetak nama , isi parameter class sebelumya yaitu user. agar class programmer bisa mewarisi method dan variable dari class user.\n",
    "\n",
    "3. dan Buat class ProgammerPass yang isi parameter class induk yaitu User, tetapi isi dari methode di class ProgammerPass hanya pass. arti dari pass itu sendiri adalah class ProgammerPass mengambil semua method dan attribute dari class user."
   ]
  },
  {
   "cell_type": "code",
   "execution_count": 8,
   "metadata": {},
   "outputs": [
    {
     "name": "stdout",
     "output_type": "stream",
     "text": [
      "Terry Fish\n",
      "Bone\n",
      "False\n",
      "The fish is swimming.\n",
      "The fish can swim backwards.\n",
      "\n",
      "TerrySFish\n",
      "No Bone\n",
      "True\n",
      "\n",
      "Casey Fish\n",
      "The fish is swimming.\n",
      "The clownfish is coexisting with sea anemone.\n"
     ]
    }
   ],
   "source": [
    "class Fish:\n",
    "    def __init__(self, first_name, last_name=\"Fish\",\n",
    "                 skeleton=\"Bone\", eyelids=False):\n",
    "        self.first_name = first_name\n",
    "        self.last_name = last_name\n",
    "        self.skeleton = skeleton\n",
    "        self.eyelids = eyelids\n",
    "\n",
    "    def swim(self):\n",
    "        print(\"The fish is swimming.\")\n",
    "\n",
    "    def swim_backwards(self):\n",
    "        print(\"The fish can swim backwards.\")\n",
    "\n",
    "class Trout(Fish):\n",
    "    pass\n",
    "\n",
    "class Clownfish(Fish):\n",
    "    def live_with_anemone(self):\n",
    "        print(\"The clownfish is coexisting with sea anemone.\")\n",
    "\n",
    "terry = Trout(\"Terry\")\n",
    "print(terry.first_name + \" \" + terry.last_name)\n",
    "print(terry.skeleton)\n",
    "print(terry.eyelids)\n",
    "terry.swim()\n",
    "terry.swim_backwards()\n",
    "\n",
    "print(\"\")\n",
    "terry1 = Trout(\"TerryS\",\"SmallFish\",\"No Bone\",True)\n",
    "print(terry1.first_name+\"\"+terry.last_name)\n",
    "print(terry1.skeleton)\n",
    "print(terry1.eyelids)\n",
    "print(\"\")\n",
    "\n",
    "casey = Clownfish(\"Casey\")\n",
    "print(casey.first_name + \" \" + casey.last_name)\n",
    "casey.swim()\n",
    "casey.live_with_anemone()"
   ]
  },
  {
   "cell_type": "markdown",
   "metadata": {},
   "source": [
    "# Inheritance Super"
   ]
  },
  {
   "cell_type": "code",
   "execution_count": 14,
   "metadata": {},
   "outputs": [
    {
     "name": "stdout",
     "output_type": "stream",
     "text": [
      "Name = Maxx\n",
      "Name = Diana\n",
      "Name = Honda\n",
      "Name =  Honda Abdullah\n"
     ]
    }
   ],
   "source": [
    "class User:\n",
    "    def __init__(self, name):\n",
    "        self.name=name\n",
    "        \n",
    "    def printName(self):\n",
    "        print(\"Name = \" + self.name)\n",
    "\n",
    "class Progammer(User): #Untuk Memanggil attribute \"name\" maka membaca tentang Inheiritance Super\n",
    "    \n",
    "    def __init__(self,name,lastname):\n",
    "        self.lastname=lastname\n",
    "        #User.__init__(self,name)\n",
    "        super().__init__(name)\n",
    "        \n",
    "    def printLastName(self):\n",
    "        print(\"Name = \", self.name, self.lastname)\n",
    "        \n",
    "    def doPython(self):\n",
    "        print(\"Programing Python\")\n",
    "        \n",
    "\n",
    "class ProgammerPass(User):\n",
    "    pass\n",
    "\n",
    "a=User(\"Maxx\")\n",
    "a.printName()\n",
    "\n",
    "b=ProgammerPass(\"Diana\")\n",
    "b.printName()\n",
    "\n",
    "c=Progammer(\"Honda\",\"Abdullah\")\n",
    "c.printName()\n",
    "c.printLastName()"
   ]
  }
 ],
 "metadata": {
  "kernelspec": {
   "display_name": "Python 3",
   "language": "python",
   "name": "python3"
  },
  "language_info": {
   "codemirror_mode": {
    "name": "ipython",
    "version": 3
   },
   "file_extension": ".py",
   "mimetype": "text/x-python",
   "name": "python",
   "nbconvert_exporter": "python",
   "pygments_lexer": "ipython3",
   "version": "3.6.5"
  }
 },
 "nbformat": 4,
 "nbformat_minor": 2
}
